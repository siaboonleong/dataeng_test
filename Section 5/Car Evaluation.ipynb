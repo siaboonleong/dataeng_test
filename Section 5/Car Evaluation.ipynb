{
 "cells": [
  {
   "cell_type": "code",
   "execution_count": 309,
   "id": "dec0569c",
   "metadata": {},
   "outputs": [],
   "source": [
    "\n",
    "import pandas as pd\n",
    "pd.options.display.max_colwidth = 80\n",
    "\n",
    "from sklearn.model_selection import train_test_split\n",
    "from sklearn.preprocessing import OrdinalEncoder\n",
    "\n",
    "from sklearn.svm import SVC # SVM model with kernels\n",
    "from sklearn.model_selection import GridSearchCV\n",
    "\n",
    "from sklearn.metrics import accuracy_score\n",
    "\n",
    "from sklearn.metrics import confusion_matrix\n",
    "from sklearn.metrics import classification_report\n",
    "import numpy as np\n",
    "import warnings\n",
    "\n",
    "import seaborn as sn\n",
    "import matplotlib.pyplot as plt\n",
    "warnings.filterwarnings('ignore')\n",
    "\n",
    " "
   ]
  },
  {
   "cell_type": "code",
   "execution_count": 310,
   "id": "8ee641db",
   "metadata": {},
   "outputs": [],
   "source": [
    "data = './data/car_evaluation.csv'\n",
    "\n",
    "header_list = ['buying', 'maint', 'doors', 'persons', 'lug_boot', 'safety', 'class']\n",
    "\n",
    "df = pd.read_csv(data, names=header_list, index_col=None)\n",
    "\n"
   ]
  },
  {
   "cell_type": "code",
   "execution_count": 311,
   "id": "66f7f4ca",
   "metadata": {},
   "outputs": [
    {
     "data": {
      "text/html": [
       "<div>\n",
       "<style scoped>\n",
       "    .dataframe tbody tr th:only-of-type {\n",
       "        vertical-align: middle;\n",
       "    }\n",
       "\n",
       "    .dataframe tbody tr th {\n",
       "        vertical-align: top;\n",
       "    }\n",
       "\n",
       "    .dataframe thead th {\n",
       "        text-align: right;\n",
       "    }\n",
       "</style>\n",
       "<table border=\"1\" class=\"dataframe\">\n",
       "  <thead>\n",
       "    <tr style=\"text-align: right;\">\n",
       "      <th></th>\n",
       "      <th>buying</th>\n",
       "      <th>maint</th>\n",
       "      <th>doors</th>\n",
       "      <th>persons</th>\n",
       "      <th>lug_boot</th>\n",
       "      <th>safety</th>\n",
       "      <th>class</th>\n",
       "    </tr>\n",
       "  </thead>\n",
       "  <tbody>\n",
       "    <tr>\n",
       "      <th>0</th>\n",
       "      <td>vhigh</td>\n",
       "      <td>vhigh</td>\n",
       "      <td>2</td>\n",
       "      <td>2</td>\n",
       "      <td>small</td>\n",
       "      <td>low</td>\n",
       "      <td>unacc</td>\n",
       "    </tr>\n",
       "    <tr>\n",
       "      <th>1</th>\n",
       "      <td>vhigh</td>\n",
       "      <td>vhigh</td>\n",
       "      <td>2</td>\n",
       "      <td>2</td>\n",
       "      <td>small</td>\n",
       "      <td>med</td>\n",
       "      <td>unacc</td>\n",
       "    </tr>\n",
       "    <tr>\n",
       "      <th>2</th>\n",
       "      <td>vhigh</td>\n",
       "      <td>vhigh</td>\n",
       "      <td>2</td>\n",
       "      <td>2</td>\n",
       "      <td>small</td>\n",
       "      <td>high</td>\n",
       "      <td>unacc</td>\n",
       "    </tr>\n",
       "    <tr>\n",
       "      <th>3</th>\n",
       "      <td>vhigh</td>\n",
       "      <td>vhigh</td>\n",
       "      <td>2</td>\n",
       "      <td>2</td>\n",
       "      <td>med</td>\n",
       "      <td>low</td>\n",
       "      <td>unacc</td>\n",
       "    </tr>\n",
       "    <tr>\n",
       "      <th>4</th>\n",
       "      <td>vhigh</td>\n",
       "      <td>vhigh</td>\n",
       "      <td>2</td>\n",
       "      <td>2</td>\n",
       "      <td>med</td>\n",
       "      <td>med</td>\n",
       "      <td>unacc</td>\n",
       "    </tr>\n",
       "  </tbody>\n",
       "</table>\n",
       "</div>"
      ],
      "text/plain": [
       "  buying  maint doors persons lug_boot safety  class\n",
       "0  vhigh  vhigh     2       2    small    low  unacc\n",
       "1  vhigh  vhigh     2       2    small    med  unacc\n",
       "2  vhigh  vhigh     2       2    small   high  unacc\n",
       "3  vhigh  vhigh     2       2      med    low  unacc\n",
       "4  vhigh  vhigh     2       2      med    med  unacc"
      ]
     },
     "execution_count": 311,
     "metadata": {},
     "output_type": "execute_result"
    }
   ],
   "source": [
    "df.head()"
   ]
  },
  {
   "cell_type": "code",
   "execution_count": 312,
   "id": "dec8b998",
   "metadata": {},
   "outputs": [
    {
     "data": {
      "text/html": [
       "<div>\n",
       "<style scoped>\n",
       "    .dataframe tbody tr th:only-of-type {\n",
       "        vertical-align: middle;\n",
       "    }\n",
       "\n",
       "    .dataframe tbody tr th {\n",
       "        vertical-align: top;\n",
       "    }\n",
       "\n",
       "    .dataframe thead th {\n",
       "        text-align: right;\n",
       "    }\n",
       "</style>\n",
       "<table border=\"1\" class=\"dataframe\">\n",
       "  <thead>\n",
       "    <tr style=\"text-align: right;\">\n",
       "      <th></th>\n",
       "      <th>buying</th>\n",
       "      <th>maint</th>\n",
       "      <th>doors</th>\n",
       "      <th>persons</th>\n",
       "      <th>lug_boot</th>\n",
       "      <th>safety</th>\n",
       "      <th>class</th>\n",
       "    </tr>\n",
       "  </thead>\n",
       "  <tbody>\n",
       "    <tr>\n",
       "      <th>count</th>\n",
       "      <td>1728</td>\n",
       "      <td>1728</td>\n",
       "      <td>1728</td>\n",
       "      <td>1728</td>\n",
       "      <td>1728</td>\n",
       "      <td>1728</td>\n",
       "      <td>1728</td>\n",
       "    </tr>\n",
       "    <tr>\n",
       "      <th>unique</th>\n",
       "      <td>4</td>\n",
       "      <td>4</td>\n",
       "      <td>4</td>\n",
       "      <td>3</td>\n",
       "      <td>3</td>\n",
       "      <td>3</td>\n",
       "      <td>4</td>\n",
       "    </tr>\n",
       "    <tr>\n",
       "      <th>top</th>\n",
       "      <td>vhigh</td>\n",
       "      <td>vhigh</td>\n",
       "      <td>2</td>\n",
       "      <td>2</td>\n",
       "      <td>small</td>\n",
       "      <td>low</td>\n",
       "      <td>unacc</td>\n",
       "    </tr>\n",
       "    <tr>\n",
       "      <th>freq</th>\n",
       "      <td>432</td>\n",
       "      <td>432</td>\n",
       "      <td>432</td>\n",
       "      <td>576</td>\n",
       "      <td>576</td>\n",
       "      <td>576</td>\n",
       "      <td>1210</td>\n",
       "    </tr>\n",
       "  </tbody>\n",
       "</table>\n",
       "</div>"
      ],
      "text/plain": [
       "       buying  maint doors persons lug_boot safety  class\n",
       "count    1728   1728  1728    1728     1728   1728   1728\n",
       "unique      4      4     4       3        3      3      4\n",
       "top     vhigh  vhigh     2       2    small    low  unacc\n",
       "freq      432    432   432     576      576    576   1210"
      ]
     },
     "execution_count": 312,
     "metadata": {},
     "output_type": "execute_result"
    }
   ],
   "source": [
    "df.describe()"
   ]
  },
  {
   "cell_type": "code",
   "execution_count": 313,
   "id": "c9715bca",
   "metadata": {},
   "outputs": [
    {
     "name": "stdout",
     "output_type": "stream",
     "text": [
      "vhigh    432\n",
      "high     432\n",
      "med      432\n",
      "low      432\n",
      "Name: buying, dtype: int64 \n",
      "\n",
      "vhigh    432\n",
      "high     432\n",
      "med      432\n",
      "low      432\n",
      "Name: maint, dtype: int64 \n",
      "\n",
      "2        432\n",
      "3        432\n",
      "4        432\n",
      "5more    432\n",
      "Name: doors, dtype: int64 \n",
      "\n",
      "2       576\n",
      "4       576\n",
      "more    576\n",
      "Name: persons, dtype: int64 \n",
      "\n",
      "small    576\n",
      "med      576\n",
      "big      576\n",
      "Name: lug_boot, dtype: int64 \n",
      "\n",
      "low     576\n",
      "med     576\n",
      "high    576\n",
      "Name: safety, dtype: int64 \n",
      "\n",
      "unacc    1210\n",
      "acc       384\n",
      "good       69\n",
      "vgood      65\n",
      "Name: class, dtype: int64 \n",
      "\n"
     ]
    }
   ],
   "source": [
    "for column in df.columns:\n",
    "    print(df[column].value_counts(), '\\n') "
   ]
  },
  {
   "cell_type": "code",
   "execution_count": 314,
   "id": "064dd305",
   "metadata": {},
   "outputs": [],
   "source": [
    " \n",
    "X = df.drop(['class'], axis=1) \n",
    "y = df['class']"
   ]
  },
  {
   "cell_type": "code",
   "execution_count": 315,
   "id": "42d560ed",
   "metadata": {},
   "outputs": [],
   "source": [
    "X_train, X_test, y_train, y_test = train_test_split(X, y, test_size = 0.4, random_state = 42)"
   ]
  },
  {
   "cell_type": "code",
   "execution_count": 316,
   "id": "15a699c0",
   "metadata": {},
   "outputs": [
    {
     "data": {
      "text/plain": [
       "[['buying', 'maint', 'doors', 'persons', 'lug_boot', 'safety']]"
      ]
     },
     "execution_count": 316,
     "metadata": {},
     "output_type": "execute_result"
    }
   ],
   "source": [
    "col_names = ['buying', 'maint', 'doors', 'persons', 'lug_boot', 'safety']\n",
    "\n",
    "columns_encode = []\n",
    "columns_encode.append(col_names)\n",
    "columns_encode"
   ]
  },
  {
   "cell_type": "code",
   "execution_count": 320,
   "id": "481d4d87",
   "metadata": {},
   "outputs": [],
   "source": [
    "ordinal_encoder = OrdinalEncoder()\n",
    "\n",
    "X_train = ordinal_encoder.fit_transform(X_train, columns_encode)\n",
    "X_test = ordinal_encoder.transform(X_test)"
   ]
  },
  {
   "cell_type": "code",
   "execution_count": 321,
   "id": "911a5a50",
   "metadata": {},
   "outputs": [
    {
     "data": {
      "text/plain": [
       "GridSearchCV(estimator=SVC(),\n",
       "             param_grid=[{'C': [3, 5, 7, 9, 10], 'kernel': ['poly']},\n",
       "                         {'C': [3, 5, 7, 9, 10], 'gamma': [2, 4, 6, 8],\n",
       "                          'kernel': ['rbf']}],\n",
       "             return_train_score=True)"
      ]
     },
     "execution_count": 321,
     "metadata": {},
     "output_type": "execute_result"
    }
   ],
   "source": [
    "param_grid = [{'kernel': ['poly'], 'C' : [3, 5, 7, 9, 10]},\n",
    "             {'kernel' : ['rbf'], 'C' : [3, 5, 7, 9, 10], 'gamma' : [2, 4, 6, 8]}]\n",
    "\n",
    "svm = SVC()\n",
    "grid_search = GridSearchCV(svm, param_grid, return_train_score=True)\n",
    "\n",
    "grid_search.fit(X_train, y_train)"
   ]
  },
  {
   "cell_type": "code",
   "execution_count": 322,
   "id": "43e5a51b",
   "metadata": {},
   "outputs": [
    {
     "data": {
      "text/plain": [
       "{'C': 9, 'kernel': 'poly'}"
      ]
     },
     "execution_count": 322,
     "metadata": {},
     "output_type": "execute_result"
    }
   ],
   "source": [
    "grid_search.best_params_"
   ]
  },
  {
   "cell_type": "code",
   "execution_count": 323,
   "id": "4b55381f",
   "metadata": {},
   "outputs": [
    {
     "data": {
      "text/plain": [
       "SVC(C=9, kernel='poly')"
      ]
     },
     "execution_count": 323,
     "metadata": {},
     "output_type": "execute_result"
    }
   ],
   "source": [
    "grid_search.best_estimator_"
   ]
  },
  {
   "cell_type": "code",
   "execution_count": 324,
   "id": "141fae61",
   "metadata": {},
   "outputs": [
    {
     "data": {
      "text/plain": [
       "0.8815028901734104"
      ]
     },
     "execution_count": 324,
     "metadata": {},
     "output_type": "execute_result"
    }
   ],
   "source": [
    "svm_y_pred = grid_search.predict(X_test)\n",
    "\n",
    "accuracy_score(y_test, svm_y_pred)"
   ]
  },
  {
   "cell_type": "code",
   "execution_count": 325,
   "id": "72d4b376",
   "metadata": {},
   "outputs": [
    {
     "data": {
      "text/plain": [
       "0.9054054054054054"
      ]
     },
     "execution_count": 325,
     "metadata": {},
     "output_type": "execute_result"
    }
   ],
   "source": [
    "svm_y_pred_train = grid_search.predict(X_train)\n",
    "\n",
    "accuracy_score(y_train, svm_y_pred_train)\n"
   ]
  },
  {
   "cell_type": "code",
   "execution_count": 326,
   "id": "ca6789ce",
   "metadata": {},
   "outputs": [
    {
     "data": {
      "text/plain": [
       "array([[107,   3,  39,   7],\n",
       "       [  2,  22,   5,   0],\n",
       "       [ 14,   0, 465,   1],\n",
       "       [  6,   0,   5,  16]], dtype=int64)"
      ]
     },
     "execution_count": 326,
     "metadata": {},
     "output_type": "execute_result"
    }
   ],
   "source": [
    "confusion_matrix(y_test, svm_y_pred)"
   ]
  },
  {
   "cell_type": "code",
   "execution_count": 327,
   "id": "03acc07d",
   "metadata": {},
   "outputs": [
    {
     "name": "stdout",
     "output_type": "stream",
     "text": [
      "              precision    recall  f1-score   support\n",
      "\n",
      "         acc       0.83      0.69      0.75       156\n",
      "        good       0.88      0.76      0.81        29\n",
      "       unacc       0.90      0.97      0.94       480\n",
      "       vgood       0.67      0.59      0.63        27\n",
      "\n",
      "    accuracy                           0.88       692\n",
      "   macro avg       0.82      0.75      0.78       692\n",
      "weighted avg       0.88      0.88      0.88       692\n",
      "\n"
     ]
    }
   ],
   "source": [
    "print(classification_report(y_test, svm_y_pred))"
   ]
  },
  {
   "cell_type": "code",
   "execution_count": 416,
   "id": "446aefb7",
   "metadata": {},
   "outputs": [
    {
     "name": "stdout",
     "output_type": "stream",
     "text": [
      "445\n",
      "[1. 2. 2. 2. 0. 2.]\n"
     ]
    }
   ],
   "source": [
    "'''\n",
    "col_names = ['buying', 'maint', 'doors', 'persons', 'lug_boot', 'safety', class]\n",
    "array= 0 , 2, 2, -,2, 2, good\n",
    "\n",
    "buying       v-high, high, med, low\n",
    "maint        v-high, high, med, low\n",
    "doors        2, 3, 4, 5-more\n",
    "persons      2, 4, more\n",
    "lug_boot     small, med, big\n",
    "safety       low, med, high\n",
    "\n",
    "Maintenance = High Number of doors = 4 Lug Boot Size = Big Safety = High Class Value = Good\n",
    "\n",
    "[y,2,2,-,2,2,2,good]\n",
    "'''\n",
    "\n",
    "for y in range(0,len(svm_y_pred)):\n",
    "    if svm_y_pred[y] == 'good':\n",
    "        \n",
    "        if (X_test[y][1] == 2 and X_test[y][2] == 2 and  X_test[y][5] == 2   ) :\n",
    "            print(y)\n",
    "            print(X_test[y])\n",
    "              \n"
   ]
  },
  {
   "cell_type": "code",
   "execution_count": 348,
   "id": "37d4b8b9",
   "metadata": {},
   "outputs": [
    {
     "name": "stdout",
     "output_type": "stream",
     "text": [
      "good\n"
     ]
    }
   ],
   "source": [
    "print(y_test.iloc[445])"
   ]
  },
  {
   "cell_type": "code",
   "execution_count": 417,
   "id": "7c330d3b",
   "metadata": {},
   "outputs": [
    {
     "name": "stdout",
     "output_type": "stream",
     "text": [
      "709\n",
      "[1. 2. 2. 2. 1. 2.]\n",
      "824\n",
      "[1. 2. 2. 1. 0. 2.]\n",
      "944\n",
      "[1. 2. 2. 1. 1. 2.]\n"
     ]
    }
   ],
   "source": [
    "for y in range(0,len(svm_y_pred_train)):\n",
    "    if svm_y_pred_train[y] == 'good':\n",
    "        \n",
    "        if (X_train[y][1] == 2 and X_train[y][2] == 2 and  X_train[y][5] == 2   ) :\n",
    "            print(y)\n",
    "            print(X_train[y])"
   ]
  },
  {
   "cell_type": "code",
   "execution_count": 418,
   "id": "a8810950",
   "metadata": {},
   "outputs": [
    {
     "data": {
      "image/png": "[encoded data removed]",
      "text/plain": [
       "<Figure size 432x288 with 1 Axes>"
      ]
     },
     "metadata": {
      "needs_background": "light"
     },
     "output_type": "display_data"
    }
   ],
   "source": [
    "import matplotlib.pyplot as plt\n",
    "import matplotlib.pyplot as plt\n",
    "import plotly.express as px\n",
    "encd_X = np.concatenate((X_train,X_test),axis=0)\n",
    " \n",
    "df.groupby('buying')['lug_boot1'].plot(legend=True)\n",
    "df['lug_boot1'] = pd.factorize( df['lug_boot'] )[0]\n",
    "df['buying1'] = pd.factorize( df['buying'] )[0]\n",
    "plt.bar(df['buying1'], df['lug_boot1'])\n",
    "plt.show()"
   ]
  },
  {
   "cell_type": "code",
   "execution_count": null,
   "id": "e29d881e",
   "metadata": {},
   "outputs": [],
   "source": [
    "\"Ans is = 2 Medium price\""
   ]
  },
  {
   "cell_type": "code",
   "execution_count": null,
   "id": "0e022489",
   "metadata": {},
   "outputs": [],
   "source": [
    "\"I have tried to run the model using buying as prediction class but it is not working due to the data skewness\""
   ]
  },
  {
   "cell_type": "code",
   "execution_count": null,
   "id": "e14fd870",
   "metadata": {},
   "outputs": [],
   "source": [
    "\"Thus I find all prediction of class with 'good' and look for data cloeset to the require specs \""
   ]
  },
  {
   "cell_type": "code",
   "execution_count": null,
   "id": "ccefe14c",
   "metadata": {},
   "outputs": [],
   "source": [
    "\"I found [1. 2. 2. 2. 0. 2.] , [1. 2. 2. 2. 1. 2.] ,[1. 2. 2. 1. 0. 2.] and [1. 2. 2. 1. 1. 2.] which are all encoding \"\n",
    "\"for related columns and most prediction is buying at 1 which is Medium price \""
   ]
  },
  {
   "cell_type": "code",
   "execution_count": null,
   "id": "f1e2e0ad",
   "metadata": {},
   "outputs": [],
   "source": [
    "#The only variable can't be account for in the data is lug boot but as I measure the relationship \n",
    "#with lug_boot with buying price and found is evenly distributed.\n",
    "#I thus conclude is not an important variable and the prediction of medium is safe and highly possible\n",
    "\n"
   ]
  },
  {
   "cell_type": "code",
   "execution_count": null,
   "id": "1844419e",
   "metadata": {},
   "outputs": [],
   "source": []
  }
 ],
 "metadata": {
  "kernelspec": {
   "display_name": "Python 3",
   "language": "python",
   "name": "python3"
  },
  "language_info": {
   "codemirror_mode": {
    "name": "ipython",
    "version": 3
   },
   "file_extension": ".py",
   "mimetype": "text/x-python",
   "name": "python",
   "nbconvert_exporter": "python",
   "pygments_lexer": "ipython3",
   "version": "3.8.10"
  }
 },
 "nbformat": 4,
 "nbformat_minor": 5
}
